{
 "cells": [
  {
   "cell_type": "markdown",
   "metadata": {},
   "source": [
    "\n",
    "# Audio Tagging Toolkit\n",
    "## attk.utils demo\n",
    "\n",
    "\n",
    "\n",
    "[<< Back to README](https://github.com/hipstas/aapb-july-2017-demo/blob/master/README.md) \\| [Forward to pg. 3 >>]()\n"
   ]
  },
  {
   "cell_type": "code",
   "execution_count": null,
   "metadata": {
    "collapsed": true
   },
   "outputs": [],
   "source": [
    "## Suppresses text output from this cell\n",
    "#%%capture\n",
    "\n",
    "## Install the latest version of Audio Tagging Toolkit\n",
    "#!pip install -U git+git://github.com/hipstas/audio-tagging-toolkit.git\n",
    "\n",
    "## Or ...\n",
    "#!pip install -U attk"
   ]
  },
  {
   "cell_type": "code",
   "execution_count": null,
   "metadata": {
    "collapsed": true
   },
   "outputs": [],
   "source": [
    "import attk\n",
    "import os\n",
    "import random"
   ]
  },
  {
   "cell_type": "code",
   "execution_count": null,
   "metadata": {},
   "outputs": [],
   "source": [
    "## Download an MP3 audio file\n",
    "\n",
    "!wget https://media.sas.upenn.edu/pennsound/authors/Armantrout/WPS1/Armantrout-Rae_06_Way_WPS1_NY_5-10-06.mp3\n",
    "\n",
    "media_path='./Armantrout-Rae_06_Way_WPS1_NY_5-10-06.mp3'"
   ]
  },
  {
   "cell_type": "code",
   "execution_count": null,
   "metadata": {
    "collapsed": true
   },
   "outputs": [],
   "source": [
    "## Create a temporary WAV copy of the MP3 and assign its pathname to a variable\n",
    "\n",
    "wav_pathname = attk.temp_wav_path(media_path)"
   ]
  },
  {
   "cell_type": "code",
   "execution_count": null,
   "metadata": {},
   "outputs": [],
   "source": [
    "## View the pathname of our temporary file\n",
    "\n",
    "wav_pathname"
   ]
  },
  {
   "cell_type": "code",
   "execution_count": null,
   "metadata": {},
   "outputs": [],
   "source": [
    "## Return file duration in seconds via ffprobe\n",
    "## (accepts just about any audio or video format)\n",
    "\n",
    "dur_secs = attk.duration(wav_pathname)\n",
    "\n",
    "dur_secs"
   ]
  },
  {
   "cell_type": "code",
   "execution_count": null,
   "metadata": {},
   "outputs": [],
   "source": [
    "## Extract 12 Mel Frequency Ceptstral Coefficients (0th coefficient removed)\n",
    "## and display 2 bins' worth of values\n",
    "\n",
    "mfccs = attk.get_mfccs(wav_pathname)\n",
    "\n",
    "mfccs[:2]"
   ]
  },
  {
   "cell_type": "code",
   "execution_count": null,
   "metadata": {},
   "outputs": [],
   "source": [
    "## Extract MFCC + delta + delta delta features and display 2 bins' worth of values\n",
    "\n",
    "mfcc_d = attk.get_mfccs_and_deltas(wav_pathname)\n",
    "\n",
    "mfcc_d[:2]"
   ]
  },
  {
   "cell_type": "markdown",
   "metadata": {},
   "source": [
    "## *Working with ML classifier output values*"
   ]
  },
  {
   "cell_type": "code",
   "execution_count": null,
   "metadata": {},
   "outputs": [],
   "source": [
    "## Apply a rolling average to a list of values\n",
    "## default window size: 10\n",
    "\n",
    "smoothed_vals = attk.smooth([1,2,3,4,3,2,3,4,19,3,2,3,4,3,2,1,1,1,8,1,1,1,2,3,3,4,4,4,4,2])\n",
    "\n",
    "smoothed_vals"
   ]
  },
  {
   "cell_type": "code",
   "execution_count": null,
   "metadata": {},
   "outputs": [],
   "source": [
    "## Apply a rolling average to a list of binary classifier output values\n",
    "## default window size: 10\n",
    "\n",
    "smoothed_classes = attk.smooth([0.1, 0.01, 1.0, 0.7, 0.99, 0.2, 0.7, 0.9, 0.1, 0.1, 0.2, 0.1])\n",
    "\n",
    "smoothed_classes"
   ]
  },
  {
   "cell_type": "code",
   "execution_count": null,
   "metadata": {},
   "outputs": [],
   "source": [
    "## Round values to the nearest whole number using list comprehension notation\n",
    "\n",
    "rounded_classes = [round(item) for item in smoothed_classes]\n",
    "\n",
    "rounded_classes"
   ]
  },
  {
   "cell_type": "code",
   "execution_count": null,
   "metadata": {},
   "outputs": [],
   "source": [
    "## Convert a list of labels to a list of (start, end) pairs corresponding \n",
    "## to a specified label\n",
    "\n",
    "range_pairs = attk.labels_to_ranges(rounded_classes, label=0)\n",
    "\n",
    "range_pairs"
   ]
  },
  {
   "cell_type": "code",
   "execution_count": null,
   "metadata": {},
   "outputs": [],
   "source": [
    "## Determine the approximate location of vowel sounds in speech recordings\n",
    "## bin size: 512\n",
    "\n",
    "vowel_ranges = attk.get_vowel_segments(wav_pathname)\n",
    "\n",
    "vowel_ranges"
   ]
  },
  {
   "cell_type": "code",
   "execution_count": null,
   "metadata": {},
   "outputs": [],
   "source": [
    "## Quickly excerpt WAV segments from media files using moviepy\n",
    "\n",
    "media_path = 'Armantrout-Rae_06_Way_WPS1_NY_5-10-06.mp3'\n",
    "\n",
    "wav_path = attk.subclip(media_path,15,21,out_dir='./') # starting at 15 seconds, ending at 21 seconds"
   ]
  },
  {
   "cell_type": "code",
   "execution_count": null,
   "metadata": {},
   "outputs": [],
   "source": [
    "## Create a WAV excerpt without specifying a destination directory\n",
    "## (writes excerpt to directory containing the specified media file)\n",
    "\n",
    "attk.subclip(media_path, 0.5, 15.75)"
   ]
  },
  {
   "cell_type": "code",
   "execution_count": null,
   "metadata": {
    "collapsed": true
   },
   "outputs": [],
   "source": [
    "## View files in the current working directory\n",
    "\n",
    "!ls"
   ]
  },
  {
   "cell_type": "code",
   "execution_count": null,
   "metadata": {
    "collapsed": true
   },
   "outputs": [],
   "source": [
    "## Move media files into a new directory\n",
    "\n",
    "!mkdir test_dir\n",
    "!mv Armantrout-Rae_06_Way_WPS1_NY_5-10-06* test_dir/"
   ]
  },
  {
   "cell_type": "code",
   "execution_count": null,
   "metadata": {
    "collapsed": true
   },
   "outputs": [],
   "source": [
    "!ls test_dir/"
   ]
  },
  {
   "cell_type": "code",
   "execution_count": null,
   "metadata": {},
   "outputs": [],
   "source": [
    "## Recursively scans a given directory and returns a list of pathnames for \n",
    "## every media file present\n",
    "\n",
    "dir_path=\"./test_dir\"\n",
    "\n",
    "media_paths = attk.find_media_paths(dir_path)\n",
    "\n",
    "media_paths"
   ]
  },
  {
   "cell_type": "code",
   "execution_count": null,
   "metadata": {},
   "outputs": [],
   "source": [
    "## Excerpting first 5 seconds from every media file in a directory,\n",
    "\n",
    "import random\n",
    "\n",
    "media_paths=[item for item in attk.find_media_paths(dir_path) if item[-4:].lower() in ('.mp3','.wav','.mp4')]\n",
    "\n",
    "random.shuffle(media_paths)\n",
    "\n",
    "for media_path in media_paths:\n",
    "\tattk.subclip(media_path, 1.3, 3.25, out_dir = './test_dir')"
   ]
  },
  {
   "cell_type": "code",
   "execution_count": null,
   "metadata": {
    "collapsed": true
   },
   "outputs": [],
   "source": [
    "!ls"
   ]
  },
  {
   "cell_type": "code",
   "execution_count": null,
   "metadata": {
    "collapsed": true
   },
   "outputs": [],
   "source": [
    "## Be sure to delete your temp file when you're finished using it.\n",
    "\n",
    "os.remove(temp_media_path)"
   ]
  }
 ],
 "metadata": {
  "kernelspec": {
   "display_name": "Python 2",
   "language": "python",
   "name": "python2"
  },
  "language_info": {
   "codemirror_mode": {
    "name": "ipython",
    "version": 2
   },
   "file_extension": ".py",
   "mimetype": "text/x-python",
   "name": "python",
   "nbconvert_exporter": "python",
   "pygments_lexer": "ipython2",
   "version": "2.7.6"
  }
 },
 "nbformat": 4,
 "nbformat_minor": 2
}
